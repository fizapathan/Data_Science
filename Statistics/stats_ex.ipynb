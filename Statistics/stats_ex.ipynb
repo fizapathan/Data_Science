{
 "cells": [
  {
   "cell_type": "code",
   "execution_count": 19,
   "metadata": {},
   "outputs": [],
   "source": [
    "import numpy as np #for mean and median\n",
    "import pandas as pd\n",
    "from scipy import stats #for mode"
   ]
  },
  {
   "cell_type": "code",
   "execution_count": 5,
   "metadata": {},
   "outputs": [],
   "source": [
    "data = pd.read_csv('roadac.csv')"
   ]
  },
  {
   "cell_type": "code",
   "execution_count": 6,
   "metadata": {},
   "outputs": [
    {
     "data": {
      "text/plain": [
       "['Name of City',\n",
       " 'Total number of Fatal Accidents - 2011',\n",
       " 'All Accidents - 2011',\n",
       " 'Persons Killed - 2011',\n",
       " 'Persons Injured - 2011',\n",
       " 'Total number of Fatal Accidents - 2012',\n",
       " 'All Accidents - 2012',\n",
       " 'Persons Killed - 2012',\n",
       " 'Persons Injured - 2012',\n",
       " 'Fatal Accidents - 2013',\n",
       " 'Total Accidents - 2013',\n",
       " 'Killed - 2013',\n",
       " 'Injured - 2013',\n",
       " 'Severity - 2013',\n",
       " 'Fatal Accidents - 2014',\n",
       " 'Greviously Injured Accidents - 2014',\n",
       " 'Minor Accidents - 2014',\n",
       " 'Non-Injurey Accidents - 2014',\n",
       " 'Total Accidents - 2014',\n",
       " 'Killed - 2014',\n",
       " 'Injured - 2014',\n",
       " 'Severity - 2014',\n",
       " 'Fatal Accidents - 2015',\n",
       " 'Greviously Injured Accidents - 2015',\n",
       " 'Minor Accidents - 2015',\n",
       " 'Non-Injurey Accidents - 2015',\n",
       " 'Total Accidents - 2015',\n",
       " 'Killed - 2015',\n",
       " 'Injured - 2015',\n",
       " 'Severity - 2015']"
      ]
     },
     "execution_count": 6,
     "metadata": {},
     "output_type": "execute_result"
    }
   ],
   "source": [
    "list(data)"
   ]
  },
  {
   "cell_type": "code",
   "execution_count": 8,
   "metadata": {},
   "outputs": [],
   "source": [
    "data.fillna(0, inplace=True)"
   ]
  },
  {
   "cell_type": "code",
   "execution_count": 9,
   "metadata": {},
   "outputs": [
    {
     "data": {
      "text/plain": [
       "Name of City                              0\n",
       "Total number of Fatal Accidents - 2011    0\n",
       "All Accidents - 2011                      0\n",
       "Persons Killed - 2011                     0\n",
       "Persons Injured - 2011                    0\n",
       "Total number of Fatal Accidents - 2012    0\n",
       "All Accidents - 2012                      0\n",
       "Persons Killed - 2012                     0\n",
       "Persons Injured - 2012                    0\n",
       "Fatal Accidents - 2013                    0\n",
       "Total Accidents - 2013                    0\n",
       "Killed - 2013                             0\n",
       "Injured - 2013                            0\n",
       "Severity - 2013                           0\n",
       "Fatal Accidents - 2014                    0\n",
       "Greviously Injured Accidents - 2014       0\n",
       "Minor Accidents - 2014                    0\n",
       "Non-Injurey Accidents - 2014              0\n",
       "Total Accidents - 2014                    0\n",
       "Killed - 2014                             0\n",
       "Injured - 2014                            0\n",
       "Severity - 2014                           0\n",
       "Fatal Accidents - 2015                    0\n",
       "Greviously Injured Accidents - 2015       0\n",
       "Minor Accidents - 2015                    0\n",
       "Non-Injurey Accidents - 2015              0\n",
       "Total Accidents - 2015                    0\n",
       "Killed - 2015                             0\n",
       "Injured - 2015                            0\n",
       "Severity - 2015                           0\n",
       "dtype: int64"
      ]
     },
     "execution_count": 9,
     "metadata": {},
     "output_type": "execute_result"
    }
   ],
   "source": [
    "data.isna().sum()"
   ]
  },
  {
   "cell_type": "markdown",
   "metadata": {},
   "source": [
    "# mean"
   ]
  },
  {
   "cell_type": "code",
   "execution_count": 10,
   "metadata": {},
   "outputs": [
    {
     "data": {
      "text/plain": [
       "0      1299.0\n",
       "1      2020.0\n",
       "2       368.0\n",
       "3       719.0\n",
       "4      6031.0\n",
       "5      3459.0\n",
       "6      1126.0\n",
       "7      7281.0\n",
       "8       138.0\n",
       "9       803.0\n",
       "10     1109.0\n",
       "11     2030.0\n",
       "12     2651.0\n",
       "13     4995.0\n",
       "14     2002.0\n",
       "15     2906.0\n",
       "16      447.0\n",
       "17      526.0\n",
       "18     1986.0\n",
       "19     3133.0\n",
       "20     1668.0\n",
       "21      616.0\n",
       "22      557.0\n",
       "23     1270.0\n",
       "24      444.0\n",
       "25      685.0\n",
       "26     2694.0\n",
       "27    25471.0\n",
       "28      886.0\n",
       "29     1231.0\n",
       "30     1225.0\n",
       "31      261.0\n",
       "32     1039.0\n",
       "33     1223.0\n",
       "34      492.0\n",
       "35     1262.0\n",
       "36     1343.0\n",
       "37      142.0\n",
       "38     1548.0\n",
       "39        0.0\n",
       "40        0.0\n",
       "41        0.0\n",
       "42        0.0\n",
       "43        0.0\n",
       "44        0.0\n",
       "45        0.0\n",
       "46        0.0\n",
       "47        0.0\n",
       "48        0.0\n",
       "49        0.0\n",
       "50        0.0\n",
       "51    89086.0\n",
       "Name: All Accidents - 2011, dtype: float64"
      ]
     },
     "execution_count": 10,
     "metadata": {},
     "output_type": "execute_result"
    }
   ],
   "source": [
    "data[\"All Accidents - 2011\"]"
   ]
  },
  {
   "cell_type": "code",
   "execution_count": 11,
   "metadata": {},
   "outputs": [],
   "source": [
    "a = np.mean(data[\"All Accidents - 2011\"])"
   ]
  },
  {
   "cell_type": "code",
   "execution_count": 12,
   "metadata": {},
   "outputs": [],
   "source": [
    "b = np.mean(data[\"Total Accidents - 2015\"])"
   ]
  },
  {
   "cell_type": "code",
   "execution_count": 13,
   "metadata": {},
   "outputs": [
    {
     "name": "stdout",
     "output_type": "stream",
     "text": [
      "3426.3846153846152\n",
      "4270.153846153846\n",
      "843.7692307692305\n"
     ]
    }
   ],
   "source": [
    "print(a)\n",
    "print(b)\n",
    "print(b-a)"
   ]
  },
  {
   "cell_type": "code",
   "execution_count": 14,
   "metadata": {},
   "outputs": [
    {
     "data": {
      "text/plain": [
       "24.625642637451445"
      ]
     },
     "execution_count": 14,
     "metadata": {},
     "output_type": "execute_result"
    }
   ],
   "source": [
    "((b-a)/a) * 100"
   ]
  },
  {
   "cell_type": "markdown",
   "metadata": {},
   "source": [
    "# median"
   ]
  },
  {
   "cell_type": "code",
   "execution_count": 15,
   "metadata": {},
   "outputs": [
    {
     "data": {
      "text/plain": [
       "1336.0"
      ]
     },
     "execution_count": 15,
     "metadata": {},
     "output_type": "execute_result"
    }
   ],
   "source": [
    "np.median(data[\"Total Accidents - 2015\"])"
   ]
  },
  {
   "cell_type": "code",
   "execution_count": 16,
   "metadata": {
    "scrolled": true
   },
   "outputs": [
    {
     "data": {
      "text/plain": [
       "0       1143.0\n",
       "1       1837.0\n",
       "2        446.0\n",
       "3        654.0\n",
       "4       4834.0\n",
       "5       3621.0\n",
       "6       1513.0\n",
       "7       8085.0\n",
       "8        114.0\n",
       "9        669.0\n",
       "10       826.0\n",
       "11      2140.0\n",
       "12      2761.0\n",
       "13      5873.0\n",
       "14      1894.0\n",
       "15      3374.0\n",
       "16       347.0\n",
       "17       678.0\n",
       "18      2561.0\n",
       "19      4347.0\n",
       "20      1561.0\n",
       "21       745.0\n",
       "22       624.0\n",
       "23      1371.0\n",
       "24       489.0\n",
       "25      1037.0\n",
       "26      2882.0\n",
       "27     23468.0\n",
       "28       962.0\n",
       "29      1254.0\n",
       "30       665.0\n",
       "31      1443.0\n",
       "32       780.0\n",
       "33       903.0\n",
       "34       435.0\n",
       "35      1406.0\n",
       "36      1164.0\n",
       "37       424.0\n",
       "38         0.0\n",
       "39      1019.0\n",
       "40       150.0\n",
       "41       416.0\n",
       "42      7328.0\n",
       "43      1496.0\n",
       "44      1487.0\n",
       "45      1301.0\n",
       "46      2189.0\n",
       "47      2199.0\n",
       "48       828.0\n",
       "49      1644.0\n",
       "50      1637.0\n",
       "51    111024.0\n",
       "Name: Total Accidents - 2015, dtype: float64"
      ]
     },
     "execution_count": 16,
     "metadata": {},
     "output_type": "execute_result"
    }
   ],
   "source": [
    "data[\"Total Accidents - 2015\"]"
   ]
  },
  {
   "cell_type": "markdown",
   "metadata": {},
   "source": [
    "# mode"
   ]
  },
  {
   "cell_type": "code",
   "execution_count": 17,
   "metadata": {},
   "outputs": [],
   "source": [
    "data = pd.read_csv('roadac.csv')"
   ]
  },
  {
   "cell_type": "code",
   "execution_count": 20,
   "metadata": {},
   "outputs": [
    {
     "data": {
      "text/plain": [
       "ModeResult(mode=array([114.]), count=array([1]))"
      ]
     },
     "execution_count": 20,
     "metadata": {},
     "output_type": "execute_result"
    }
   ],
   "source": [
    "stats.mode(data[\"Total Accidents - 2015\"])"
   ]
  },
  {
   "cell_type": "code",
   "execution_count": null,
   "metadata": {},
   "outputs": [],
   "source": []
  }
 ],
 "metadata": {
  "kernelspec": {
   "display_name": "Python 3",
   "language": "python",
   "name": "python3"
  },
  "language_info": {
   "codemirror_mode": {
    "name": "ipython",
    "version": 3
   },
   "file_extension": ".py",
   "mimetype": "text/x-python",
   "name": "python",
   "nbconvert_exporter": "python",
   "pygments_lexer": "ipython3",
   "version": "3.7.1"
  }
 },
 "nbformat": 4,
 "nbformat_minor": 2
}
