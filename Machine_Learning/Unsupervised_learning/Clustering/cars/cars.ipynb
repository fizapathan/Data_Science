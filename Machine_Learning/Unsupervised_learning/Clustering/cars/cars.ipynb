{
 "cells": [
  {
   "cell_type": "code",
   "execution_count": 50,
   "metadata": {},
   "outputs": [],
   "source": [
    "from pandas import read_csv"
   ]
  },
  {
   "cell_type": "code",
   "execution_count": 51,
   "metadata": {},
   "outputs": [],
   "source": [
    "data = read_csv('cars.csv')"
   ]
  },
  {
   "cell_type": "code",
   "execution_count": 52,
   "metadata": {},
   "outputs": [
    {
     "data": {
      "text/plain": [
       "mpg             0\n",
       " cylinders      0\n",
       " cubicinches    0\n",
       " hp             0\n",
       " weightlbs      0\n",
       " time-to-60     0\n",
       " year           0\n",
       " brand          0\n",
       "dtype: int64"
      ]
     },
     "execution_count": 52,
     "metadata": {},
     "output_type": "execute_result"
    }
   ],
   "source": [
    "data.isna().sum()"
   ]
  },
  {
   "cell_type": "code",
   "execution_count": 53,
   "metadata": {},
   "outputs": [],
   "source": [
    "data.fillna(data.mean(), inplace=True)"
   ]
  },
  {
   "cell_type": "code",
   "execution_count": 54,
   "metadata": {},
   "outputs": [
    {
     "data": {
      "text/plain": [
       "['mpg',\n",
       " ' cylinders',\n",
       " ' cubicinches',\n",
       " ' hp',\n",
       " ' weightlbs',\n",
       " ' time-to-60',\n",
       " ' year',\n",
       " ' brand']"
      ]
     },
     "execution_count": 54,
     "metadata": {},
     "output_type": "execute_result"
    }
   ],
   "source": [
    "list(data)"
   ]
  },
  {
   "cell_type": "code",
   "execution_count": 55,
   "metadata": {},
   "outputs": [],
   "source": [
    "from sklearn.preprocessing import LabelEncoder"
   ]
  },
  {
   "cell_type": "code",
   "execution_count": 56,
   "metadata": {},
   "outputs": [],
   "source": [
    "labelEncoder = LabelEncoder()"
   ]
  },
  {
   "cell_type": "code",
   "execution_count": 57,
   "metadata": {},
   "outputs": [
    {
     "data": {
      "text/plain": [
       "LabelEncoder()"
      ]
     },
     "execution_count": 57,
     "metadata": {},
     "output_type": "execute_result"
    }
   ],
   "source": [
    "labelEncoder.fit(data[' brand'])"
   ]
  },
  {
   "cell_type": "code",
   "execution_count": 58,
   "metadata": {},
   "outputs": [],
   "source": [
    "data[' brand'] = labelEncoder.transform(data[' brand'])"
   ]
  },
  {
   "cell_type": "code",
   "execution_count": 59,
   "metadata": {},
   "outputs": [
    {
     "data": {
      "text/html": [
       "<div>\n",
       "<style scoped>\n",
       "    .dataframe tbody tr th:only-of-type {\n",
       "        vertical-align: middle;\n",
       "    }\n",
       "\n",
       "    .dataframe tbody tr th {\n",
       "        vertical-align: top;\n",
       "    }\n",
       "\n",
       "    .dataframe thead th {\n",
       "        text-align: right;\n",
       "    }\n",
       "</style>\n",
       "<table border=\"1\" class=\"dataframe\">\n",
       "  <thead>\n",
       "    <tr style=\"text-align: right;\">\n",
       "      <th></th>\n",
       "      <th>mpg</th>\n",
       "      <th>cylinders</th>\n",
       "      <th>cubicinches</th>\n",
       "      <th>hp</th>\n",
       "      <th>weightlbs</th>\n",
       "      <th>time-to-60</th>\n",
       "      <th>year</th>\n",
       "      <th>brand</th>\n",
       "    </tr>\n",
       "  </thead>\n",
       "  <tbody>\n",
       "    <tr>\n",
       "      <th>0</th>\n",
       "      <td>14.0</td>\n",
       "      <td>8</td>\n",
       "      <td>350</td>\n",
       "      <td>165</td>\n",
       "      <td>4209</td>\n",
       "      <td>12</td>\n",
       "      <td>1972</td>\n",
       "      <td>2</td>\n",
       "    </tr>\n",
       "    <tr>\n",
       "      <th>1</th>\n",
       "      <td>31.9</td>\n",
       "      <td>4</td>\n",
       "      <td>89</td>\n",
       "      <td>71</td>\n",
       "      <td>1925</td>\n",
       "      <td>14</td>\n",
       "      <td>1980</td>\n",
       "      <td>0</td>\n",
       "    </tr>\n",
       "    <tr>\n",
       "      <th>2</th>\n",
       "      <td>17.0</td>\n",
       "      <td>8</td>\n",
       "      <td>302</td>\n",
       "      <td>140</td>\n",
       "      <td>3449</td>\n",
       "      <td>11</td>\n",
       "      <td>1971</td>\n",
       "      <td>2</td>\n",
       "    </tr>\n",
       "    <tr>\n",
       "      <th>3</th>\n",
       "      <td>15.0</td>\n",
       "      <td>8</td>\n",
       "      <td>400</td>\n",
       "      <td>150</td>\n",
       "      <td>3761</td>\n",
       "      <td>10</td>\n",
       "      <td>1971</td>\n",
       "      <td>2</td>\n",
       "    </tr>\n",
       "    <tr>\n",
       "      <th>4</th>\n",
       "      <td>30.5</td>\n",
       "      <td>4</td>\n",
       "      <td>98</td>\n",
       "      <td>63</td>\n",
       "      <td>2051</td>\n",
       "      <td>17</td>\n",
       "      <td>1978</td>\n",
       "      <td>2</td>\n",
       "    </tr>\n",
       "    <tr>\n",
       "      <th>5</th>\n",
       "      <td>23.0</td>\n",
       "      <td>8</td>\n",
       "      <td>350</td>\n",
       "      <td>125</td>\n",
       "      <td>3900</td>\n",
       "      <td>17</td>\n",
       "      <td>1980</td>\n",
       "      <td>2</td>\n",
       "    </tr>\n",
       "    <tr>\n",
       "      <th>6</th>\n",
       "      <td>13.0</td>\n",
       "      <td>8</td>\n",
       "      <td>351</td>\n",
       "      <td>158</td>\n",
       "      <td>4363</td>\n",
       "      <td>13</td>\n",
       "      <td>1974</td>\n",
       "      <td>2</td>\n",
       "    </tr>\n",
       "    <tr>\n",
       "      <th>7</th>\n",
       "      <td>14.0</td>\n",
       "      <td>8</td>\n",
       "      <td>440</td>\n",
       "      <td>215</td>\n",
       "      <td>4312</td>\n",
       "      <td>9</td>\n",
       "      <td>1971</td>\n",
       "      <td>2</td>\n",
       "    </tr>\n",
       "    <tr>\n",
       "      <th>8</th>\n",
       "      <td>25.4</td>\n",
       "      <td>5</td>\n",
       "      <td>183</td>\n",
       "      <td>77</td>\n",
       "      <td>3530</td>\n",
       "      <td>20</td>\n",
       "      <td>1980</td>\n",
       "      <td>0</td>\n",
       "    </tr>\n",
       "    <tr>\n",
       "      <th>9</th>\n",
       "      <td>37.7</td>\n",
       "      <td>4</td>\n",
       "      <td>89</td>\n",
       "      <td>62</td>\n",
       "      <td>2050</td>\n",
       "      <td>17</td>\n",
       "      <td>1982</td>\n",
       "      <td>1</td>\n",
       "    </tr>\n",
       "    <tr>\n",
       "      <th>10</th>\n",
       "      <td>34.0</td>\n",
       "      <td>4</td>\n",
       "      <td>108</td>\n",
       "      <td>70</td>\n",
       "      <td>2245</td>\n",
       "      <td>17</td>\n",
       "      <td>1983</td>\n",
       "      <td>1</td>\n",
       "    </tr>\n",
       "    <tr>\n",
       "      <th>11</th>\n",
       "      <td>34.3</td>\n",
       "      <td>4</td>\n",
       "      <td>97</td>\n",
       "      <td>78</td>\n",
       "      <td>2188</td>\n",
       "      <td>16</td>\n",
       "      <td>1981</td>\n",
       "      <td>0</td>\n",
       "    </tr>\n",
       "    <tr>\n",
       "      <th>12</th>\n",
       "      <td>16.0</td>\n",
       "      <td>8</td>\n",
       "      <td>302</td>\n",
       "      <td>140</td>\n",
       "      <td>4141</td>\n",
       "      <td>14</td>\n",
       "      <td>1975</td>\n",
       "      <td>2</td>\n",
       "    </tr>\n",
       "    <tr>\n",
       "      <th>13</th>\n",
       "      <td>11.0</td>\n",
       "      <td>8</td>\n",
       "      <td>350</td>\n",
       "      <td>180</td>\n",
       "      <td>3664</td>\n",
       "      <td>11</td>\n",
       "      <td>1974</td>\n",
       "      <td>2</td>\n",
       "    </tr>\n",
       "    <tr>\n",
       "      <th>14</th>\n",
       "      <td>19.1</td>\n",
       "      <td>6</td>\n",
       "      <td>225</td>\n",
       "      <td>90</td>\n",
       "      <td></td>\n",
       "      <td>19</td>\n",
       "      <td>1981</td>\n",
       "      <td>2</td>\n",
       "    </tr>\n",
       "    <tr>\n",
       "      <th>15</th>\n",
       "      <td>16.9</td>\n",
       "      <td>8</td>\n",
       "      <td>350</td>\n",
       "      <td>155</td>\n",
       "      <td>4360</td>\n",
       "      <td>15</td>\n",
       "      <td>1980</td>\n",
       "      <td>2</td>\n",
       "    </tr>\n",
       "    <tr>\n",
       "      <th>16</th>\n",
       "      <td>31.8</td>\n",
       "      <td>4</td>\n",
       "      <td>85</td>\n",
       "      <td>65</td>\n",
       "      <td>2020</td>\n",
       "      <td>19</td>\n",
       "      <td>1980</td>\n",
       "      <td>1</td>\n",
       "    </tr>\n",
       "    <tr>\n",
       "      <th>17</th>\n",
       "      <td>16.0</td>\n",
       "      <td>8</td>\n",
       "      <td>304</td>\n",
       "      <td>150</td>\n",
       "      <td>3433</td>\n",
       "      <td>12</td>\n",
       "      <td>1971</td>\n",
       "      <td>2</td>\n",
       "    </tr>\n",
       "    <tr>\n",
       "      <th>18</th>\n",
       "      <td>24.0</td>\n",
       "      <td>4</td>\n",
       "      <td>113</td>\n",
       "      <td>95</td>\n",
       "      <td>2278</td>\n",
       "      <td>16</td>\n",
       "      <td>1973</td>\n",
       "      <td>1</td>\n",
       "    </tr>\n",
       "    <tr>\n",
       "      <th>19</th>\n",
       "      <td>24.0</td>\n",
       "      <td>4</td>\n",
       "      <td>107</td>\n",
       "      <td>90</td>\n",
       "      <td>2430</td>\n",
       "      <td>15</td>\n",
       "      <td>1971</td>\n",
       "      <td>0</td>\n",
       "    </tr>\n",
       "    <tr>\n",
       "      <th>20</th>\n",
       "      <td>37.2</td>\n",
       "      <td>4</td>\n",
       "      <td>86</td>\n",
       "      <td>65</td>\n",
       "      <td>2019</td>\n",
       "      <td>16</td>\n",
       "      <td>1981</td>\n",
       "      <td>1</td>\n",
       "    </tr>\n",
       "    <tr>\n",
       "      <th>21</th>\n",
       "      <td>21.5</td>\n",
       "      <td>4</td>\n",
       "      <td>121</td>\n",
       "      <td>110</td>\n",
       "      <td>2600</td>\n",
       "      <td>13</td>\n",
       "      <td>1978</td>\n",
       "      <td>0</td>\n",
       "    </tr>\n",
       "    <tr>\n",
       "      <th>22</th>\n",
       "      <td>24.0</td>\n",
       "      <td>6</td>\n",
       "      <td>200</td>\n",
       "      <td>81</td>\n",
       "      <td>3012</td>\n",
       "      <td>18</td>\n",
       "      <td>1977</td>\n",
       "      <td>2</td>\n",
       "    </tr>\n",
       "    <tr>\n",
       "      <th>23</th>\n",
       "      <td>15.5</td>\n",
       "      <td>8</td>\n",
       "      <td>351</td>\n",
       "      <td>142</td>\n",
       "      <td>4054</td>\n",
       "      <td>14</td>\n",
       "      <td>1980</td>\n",
       "      <td>2</td>\n",
       "    </tr>\n",
       "    <tr>\n",
       "      <th>24</th>\n",
       "      <td>38.1</td>\n",
       "      <td>4</td>\n",
       "      <td>89</td>\n",
       "      <td>60</td>\n",
       "      <td>1968</td>\n",
       "      <td>19</td>\n",
       "      <td>1981</td>\n",
       "      <td>1</td>\n",
       "    </tr>\n",
       "    <tr>\n",
       "      <th>25</th>\n",
       "      <td>33.0</td>\n",
       "      <td>4</td>\n",
       "      <td>91</td>\n",
       "      <td>53</td>\n",
       "      <td>1795</td>\n",
       "      <td>17</td>\n",
       "      <td>1977</td>\n",
       "      <td>1</td>\n",
       "    </tr>\n",
       "    <tr>\n",
       "      <th>26</th>\n",
       "      <td>31.0</td>\n",
       "      <td>4</td>\n",
       "      <td>71</td>\n",
       "      <td>65</td>\n",
       "      <td>1773</td>\n",
       "      <td>19</td>\n",
       "      <td>1972</td>\n",
       "      <td>1</td>\n",
       "    </tr>\n",
       "    <tr>\n",
       "      <th>27</th>\n",
       "      <td>14.0</td>\n",
       "      <td>8</td>\n",
       "      <td>351</td>\n",
       "      <td>148</td>\n",
       "      <td>4657</td>\n",
       "      <td>14</td>\n",
       "      <td>1976</td>\n",
       "      <td>2</td>\n",
       "    </tr>\n",
       "    <tr>\n",
       "      <th>28</th>\n",
       "      <td>18.0</td>\n",
       "      <td>6</td>\n",
       "      <td>250</td>\n",
       "      <td>78</td>\n",
       "      <td>3574</td>\n",
       "      <td>21</td>\n",
       "      <td>1977</td>\n",
       "      <td>2</td>\n",
       "    </tr>\n",
       "    <tr>\n",
       "      <th>29</th>\n",
       "      <td>29.9</td>\n",
       "      <td>4</td>\n",
       "      <td>98</td>\n",
       "      <td>65</td>\n",
       "      <td>2380</td>\n",
       "      <td>21</td>\n",
       "      <td>1982</td>\n",
       "      <td>2</td>\n",
       "    </tr>\n",
       "    <tr>\n",
       "      <th>30</th>\n",
       "      <td>27.0</td>\n",
       "      <td>4</td>\n",
       "      <td>97</td>\n",
       "      <td>88</td>\n",
       "      <td>2130</td>\n",
       "      <td>15</td>\n",
       "      <td>1971</td>\n",
       "      <td>1</td>\n",
       "    </tr>\n",
       "    <tr>\n",
       "      <th>31</th>\n",
       "      <td>16.0</td>\n",
       "      <td>6</td>\n",
       "      <td>250</td>\n",
       "      <td>100</td>\n",
       "      <td>3278</td>\n",
       "      <td>18</td>\n",
       "      <td>1974</td>\n",
       "      <td>2</td>\n",
       "    </tr>\n",
       "    <tr>\n",
       "      <th>32</th>\n",
       "      <td>23.0</td>\n",
       "      <td>4</td>\n",
       "      <td>120</td>\n",
       "      <td>97</td>\n",
       "      <td>2506</td>\n",
       "      <td>15</td>\n",
       "      <td>1973</td>\n",
       "      <td>1</td>\n",
       "    </tr>\n",
       "    <tr>\n",
       "      <th>33</th>\n",
       "      <td>21.0</td>\n",
       "      <td>6</td>\n",
       "      <td>199</td>\n",
       "      <td>90</td>\n",
       "      <td></td>\n",
       "      <td>15</td>\n",
       "      <td>1971</td>\n",
       "      <td>2</td>\n",
       "    </tr>\n",
       "    <tr>\n",
       "      <th>34</th>\n",
       "      <td>30.0</td>\n",
       "      <td>4</td>\n",
       "      <td>97</td>\n",
       "      <td>67</td>\n",
       "      <td>1985</td>\n",
       "      <td>16</td>\n",
       "      <td>1978</td>\n",
       "      <td>1</td>\n",
       "    </tr>\n",
       "    <tr>\n",
       "      <th>35</th>\n",
       "      <td>22.4</td>\n",
       "      <td>6</td>\n",
       "      <td>231</td>\n",
       "      <td>110</td>\n",
       "      <td>3415</td>\n",
       "      <td>16</td>\n",
       "      <td>1982</td>\n",
       "      <td>2</td>\n",
       "    </tr>\n",
       "    <tr>\n",
       "      <th>36</th>\n",
       "      <td>26.0</td>\n",
       "      <td>4</td>\n",
       "      <td>97</td>\n",
       "      <td>46</td>\n",
       "      <td>1835</td>\n",
       "      <td>21</td>\n",
       "      <td>1971</td>\n",
       "      <td>0</td>\n",
       "    </tr>\n",
       "    <tr>\n",
       "      <th>37</th>\n",
       "      <td>21.5</td>\n",
       "      <td>3</td>\n",
       "      <td>80</td>\n",
       "      <td>110</td>\n",
       "      <td>2720</td>\n",
       "      <td>14</td>\n",
       "      <td>1978</td>\n",
       "      <td>1</td>\n",
       "    </tr>\n",
       "    <tr>\n",
       "      <th>38</th>\n",
       "      <td>16.5</td>\n",
       "      <td>8</td>\n",
       "      <td>351</td>\n",
       "      <td>138</td>\n",
       "      <td>3955</td>\n",
       "      <td>13</td>\n",
       "      <td>1980</td>\n",
       "      <td>2</td>\n",
       "    </tr>\n",
       "    <tr>\n",
       "      <th>39</th>\n",
       "      <td>20.2</td>\n",
       "      <td>6</td>\n",
       "      <td>232</td>\n",
       "      <td>90</td>\n",
       "      <td>3265</td>\n",
       "      <td>18</td>\n",
       "      <td>1980</td>\n",
       "      <td>2</td>\n",
       "    </tr>\n",
       "    <tr>\n",
       "      <th>40</th>\n",
       "      <td>16.0</td>\n",
       "      <td>6</td>\n",
       "      <td></td>\n",
       "      <td>105</td>\n",
       "      <td>3897</td>\n",
       "      <td>19</td>\n",
       "      <td>1976</td>\n",
       "      <td>2</td>\n",
       "    </tr>\n",
       "    <tr>\n",
       "      <th>41</th>\n",
       "      <td>14.0</td>\n",
       "      <td>8</td>\n",
       "      <td>302</td>\n",
       "      <td>140</td>\n",
       "      <td>4638</td>\n",
       "      <td>16</td>\n",
       "      <td>1975</td>\n",
       "      <td>2</td>\n",
       "    </tr>\n",
       "    <tr>\n",
       "      <th>42</th>\n",
       "      <td>18.5</td>\n",
       "      <td>6</td>\n",
       "      <td>250</td>\n",
       "      <td>110</td>\n",
       "      <td>3645</td>\n",
       "      <td>16</td>\n",
       "      <td>1977</td>\n",
       "      <td>2</td>\n",
       "    </tr>\n",
       "    <tr>\n",
       "      <th>43</th>\n",
       "      <td>17.5</td>\n",
       "      <td>6</td>\n",
       "      <td>250</td>\n",
       "      <td>110</td>\n",
       "      <td>3520</td>\n",
       "      <td>16</td>\n",
       "      <td>1978</td>\n",
       "      <td>2</td>\n",
       "    </tr>\n",
       "    <tr>\n",
       "      <th>44</th>\n",
       "      <td>14.0</td>\n",
       "      <td>8</td>\n",
       "      <td>455</td>\n",
       "      <td>225</td>\n",
       "      <td>3086</td>\n",
       "      <td>10</td>\n",
       "      <td>1971</td>\n",
       "      <td>2</td>\n",
       "    </tr>\n",
       "  </tbody>\n",
       "</table>\n",
       "</div>"
      ],
      "text/plain": [
       "     mpg   cylinders  cubicinches   hp  weightlbs   time-to-60   year   brand\n",
       "0   14.0           8          350  165       4209           12   1972       2\n",
       "1   31.9           4           89   71       1925           14   1980       0\n",
       "2   17.0           8          302  140       3449           11   1971       2\n",
       "3   15.0           8          400  150       3761           10   1971       2\n",
       "4   30.5           4           98   63       2051           17   1978       2\n",
       "5   23.0           8          350  125       3900           17   1980       2\n",
       "6   13.0           8          351  158       4363           13   1974       2\n",
       "7   14.0           8          440  215       4312            9   1971       2\n",
       "8   25.4           5          183   77       3530           20   1980       0\n",
       "9   37.7           4           89   62       2050           17   1982       1\n",
       "10  34.0           4          108   70       2245           17   1983       1\n",
       "11  34.3           4           97   78       2188           16   1981       0\n",
       "12  16.0           8          302  140       4141           14   1975       2\n",
       "13  11.0           8          350  180       3664           11   1974       2\n",
       "14  19.1           6          225   90                      19   1981       2\n",
       "15  16.9           8          350  155       4360           15   1980       2\n",
       "16  31.8           4           85   65       2020           19   1980       1\n",
       "17  16.0           8          304  150       3433           12   1971       2\n",
       "18  24.0           4          113   95       2278           16   1973       1\n",
       "19  24.0           4          107   90       2430           15   1971       0\n",
       "20  37.2           4           86   65       2019           16   1981       1\n",
       "21  21.5           4          121  110       2600           13   1978       0\n",
       "22  24.0           6          200   81       3012           18   1977       2\n",
       "23  15.5           8          351  142       4054           14   1980       2\n",
       "24  38.1           4           89   60       1968           19   1981       1\n",
       "25  33.0           4           91   53       1795           17   1977       1\n",
       "26  31.0           4           71   65       1773           19   1972       1\n",
       "27  14.0           8          351  148       4657           14   1976       2\n",
       "28  18.0           6          250   78       3574           21   1977       2\n",
       "29  29.9           4           98   65       2380           21   1982       2\n",
       "30  27.0           4           97   88       2130           15   1971       1\n",
       "31  16.0           6          250  100       3278           18   1974       2\n",
       "32  23.0           4          120   97       2506           15   1973       1\n",
       "33  21.0           6          199   90                      15   1971       2\n",
       "34  30.0           4           97   67       1985           16   1978       1\n",
       "35  22.4           6          231  110       3415           16   1982       2\n",
       "36  26.0           4           97   46       1835           21   1971       0\n",
       "37  21.5           3           80  110       2720           14   1978       1\n",
       "38  16.5           8          351  138       3955           13   1980       2\n",
       "39  20.2           6          232   90       3265           18   1980       2\n",
       "40  16.0           6               105       3897           19   1976       2\n",
       "41  14.0           8          302  140       4638           16   1975       2\n",
       "42  18.5           6          250  110       3645           16   1977       2\n",
       "43  17.5           6          250  110       3520           16   1978       2\n",
       "44  14.0           8          455  225       3086           10   1971       2"
      ]
     },
     "execution_count": 59,
     "metadata": {},
     "output_type": "execute_result"
    }
   ],
   "source": [
    "data.head(45)"
   ]
  },
  {
   "cell_type": "code",
   "execution_count": 60,
   "metadata": {},
   "outputs": [
    {
     "name": "stdout",
     "output_type": "stream",
     "text": [
      "<class 'pandas.core.frame.DataFrame'>\n",
      "RangeIndex: 261 entries, 0 to 260\n",
      "Data columns (total 8 columns):\n",
      "mpg             261 non-null float64\n",
      " cylinders      261 non-null int64\n",
      " cubicinches    261 non-null object\n",
      " hp             261 non-null int64\n",
      " weightlbs      261 non-null object\n",
      " time-to-60     261 non-null int64\n",
      " year           261 non-null int64\n",
      " brand          261 non-null int32\n",
      "dtypes: float64(1), int32(1), int64(4), object(2)\n",
      "memory usage: 15.4+ KB\n"
     ]
    }
   ],
   "source": [
    "data.info()"
   ]
  },
  {
   "cell_type": "code",
   "execution_count": 61,
   "metadata": {},
   "outputs": [
    {
     "data": {
      "text/plain": [
       "0     350\n",
       "1      89\n",
       "2     302\n",
       "3     400\n",
       "4      98\n",
       "5     350\n",
       "6     351\n",
       "7     440\n",
       "8     183\n",
       "9      89\n",
       "10    108\n",
       "11     97\n",
       "12    302\n",
       "13    350\n",
       "14    225\n",
       "15    350\n",
       "16     85\n",
       "17    304\n",
       "18    113\n",
       "19    107\n",
       "20     86\n",
       "21    121\n",
       "22    200\n",
       "23    351\n",
       "24     89\n",
       "25     91\n",
       "26     71\n",
       "27    351\n",
       "28    250\n",
       "29     98\n",
       "30     97\n",
       "31    250\n",
       "32    120\n",
       "33    199\n",
       "34     97\n",
       "35    231\n",
       "36     97\n",
       "37     80\n",
       "38    351\n",
       "39    232\n",
       "40       \n",
       "41    302\n",
       "42    250\n",
       "43    250\n",
       "44    455\n",
       "Name:  cubicinches, dtype: object"
      ]
     },
     "execution_count": 61,
     "metadata": {},
     "output_type": "execute_result"
    }
   ],
   "source": [
    "data[' cubicinches'].head(45)"
   ]
  },
  {
   "cell_type": "code",
   "execution_count": 62,
   "metadata": {},
   "outputs": [],
   "source": [
    "import pandas as pd\n",
    "data[' cubicinches'] = pd.to_numeric(data[' cubicinches'], errors='coerce')\n",
    "data[' weightlbs'] = pd.to_numeric(data[' weightlbs'], errors='coerce')"
   ]
  },
  {
   "cell_type": "code",
   "execution_count": 63,
   "metadata": {},
   "outputs": [
    {
     "data": {
      "text/plain": [
       "0     4209.0\n",
       "1     1925.0\n",
       "2     3449.0\n",
       "3     3761.0\n",
       "4     2051.0\n",
       "5     3900.0\n",
       "6     4363.0\n",
       "7     4312.0\n",
       "8     3530.0\n",
       "9     2050.0\n",
       "10    2245.0\n",
       "11    2188.0\n",
       "12    4141.0\n",
       "13    3664.0\n",
       "14       NaN\n",
       "15    4360.0\n",
       "16    2020.0\n",
       "17    3433.0\n",
       "18    2278.0\n",
       "19    2430.0\n",
       "20    2019.0\n",
       "21    2600.0\n",
       "22    3012.0\n",
       "23    4054.0\n",
       "24    1968.0\n",
       "25    1795.0\n",
       "26    1773.0\n",
       "27    4657.0\n",
       "28    3574.0\n",
       "29    2380.0\n",
       "30    2130.0\n",
       "31    3278.0\n",
       "32    2506.0\n",
       "33       NaN\n",
       "34    1985.0\n",
       "35    3415.0\n",
       "36    1835.0\n",
       "37    2720.0\n",
       "38    3955.0\n",
       "39    3265.0\n",
       "40    3897.0\n",
       "41    4638.0\n",
       "42    3645.0\n",
       "43    3520.0\n",
       "44    3086.0\n",
       "Name:  weightlbs, dtype: float64"
      ]
     },
     "execution_count": 63,
     "metadata": {},
     "output_type": "execute_result"
    }
   ],
   "source": [
    "data[' weightlbs'].head(45)"
   ]
  },
  {
   "cell_type": "code",
   "execution_count": 64,
   "metadata": {},
   "outputs": [],
   "source": [
    "data.fillna(data.mean(), inplace=True)"
   ]
  },
  {
   "cell_type": "code",
   "execution_count": 65,
   "metadata": {},
   "outputs": [
    {
     "data": {
      "text/plain": [
       "mpg             0\n",
       " cylinders      0\n",
       " cubicinches    0\n",
       " hp             0\n",
       " weightlbs      0\n",
       " time-to-60     0\n",
       " year           0\n",
       " brand          0\n",
       "dtype: int64"
      ]
     },
     "execution_count": 65,
     "metadata": {},
     "output_type": "execute_result"
    }
   ],
   "source": [
    "data.isna().sum()"
   ]
  },
  {
   "cell_type": "code",
   "execution_count": 66,
   "metadata": {},
   "outputs": [],
   "source": [
    "import numpy as np"
   ]
  },
  {
   "cell_type": "code",
   "execution_count": 67,
   "metadata": {},
   "outputs": [],
   "source": [
    "x = np.array(data.drop(columns = [' brand'], inplace = False))"
   ]
  },
  {
   "cell_type": "code",
   "execution_count": 68,
   "metadata": {},
   "outputs": [
    {
     "data": {
      "text/plain": [
       "array([[1.400e+01, 8.000e+00, 3.500e+02, ..., 4.209e+03, 1.200e+01,\n",
       "        1.972e+03],\n",
       "       [3.190e+01, 4.000e+00, 8.900e+01, ..., 1.925e+03, 1.400e+01,\n",
       "        1.980e+03],\n",
       "       [1.700e+01, 8.000e+00, 3.020e+02, ..., 3.449e+03, 1.100e+01,\n",
       "        1.971e+03],\n",
       "       ...,\n",
       "       [2.200e+01, 6.000e+00, 2.320e+02, ..., 2.835e+03, 1.500e+01,\n",
       "        1.983e+03],\n",
       "       [1.800e+01, 6.000e+00, 2.320e+02, ..., 3.288e+03, 1.600e+01,\n",
       "        1.972e+03],\n",
       "       [2.200e+01, 6.000e+00, 2.500e+02, ..., 3.353e+03, 1.500e+01,\n",
       "        1.977e+03]])"
      ]
     },
     "execution_count": 68,
     "metadata": {},
     "output_type": "execute_result"
    }
   ],
   "source": [
    "x"
   ]
  },
  {
   "cell_type": "code",
   "execution_count": 69,
   "metadata": {},
   "outputs": [],
   "source": [
    "y = np.array(data[' brand'])"
   ]
  },
  {
   "cell_type": "code",
   "execution_count": 70,
   "metadata": {},
   "outputs": [
    {
     "data": {
      "text/plain": [
       "array([2, 0, 2, 2, 2, 2, 2, 2, 0, 1, 1, 0, 2, 2, 2, 2, 1, 2, 1, 0, 1, 0,\n",
       "       2, 2, 1, 1, 1, 2, 2, 2, 1, 2, 1, 2, 1, 2, 0, 1, 2, 2, 2, 2, 2, 2,\n",
       "       2, 1, 2, 2, 0, 2, 2, 0, 2, 0, 2, 2, 1, 2, 0, 2, 2, 1, 1, 1, 2, 2,\n",
       "       0, 1, 0, 2, 2, 2, 1, 1, 0, 2, 2, 1, 0, 1, 2, 2, 2, 0, 0, 1, 2, 2,\n",
       "       2, 2, 1, 1, 2, 2, 2, 2, 2, 2, 2, 2, 2, 2, 2, 2, 1, 2, 0, 0, 0, 2,\n",
       "       1, 0, 2, 1, 0, 2, 2, 2, 2, 2, 0, 0, 2, 2, 0, 2, 2, 2, 0, 2, 0, 2,\n",
       "       2, 2, 2, 2, 2, 2, 0, 0, 2, 1, 1, 1, 2, 0, 2, 2, 2, 2, 1, 1, 2, 2,\n",
       "       0, 2, 1, 1, 2, 0, 2, 2, 2, 2, 0, 2, 2, 2, 1, 2, 1, 0, 0, 2, 2, 0,\n",
       "       2, 2, 2, 1, 2, 1, 2, 2, 2, 2, 2, 2, 2, 2, 2, 2, 2, 2, 2, 0, 2, 0,\n",
       "       0, 1, 0, 2, 2, 2, 2, 2, 1, 2, 2, 1, 1, 2, 1, 0, 2, 1, 1, 2, 2, 2,\n",
       "       2, 0, 2, 0, 2, 1, 2, 1, 2, 2, 2, 2, 2, 2, 0, 0, 2, 2, 2, 2, 2, 2,\n",
       "       2, 0, 2, 2, 2, 0, 1, 2, 2, 0, 0, 2, 2, 1, 2, 1, 2, 2, 2])"
      ]
     },
     "execution_count": 70,
     "metadata": {},
     "output_type": "execute_result"
    }
   ],
   "source": [
    "y"
   ]
  },
  {
   "cell_type": "code",
   "execution_count": 71,
   "metadata": {},
   "outputs": [],
   "source": [
    "from sklearn.cluster import KMeans"
   ]
  },
  {
   "cell_type": "code",
   "execution_count": 72,
   "metadata": {},
   "outputs": [
    {
     "data": {
      "text/plain": [
       "KMeans(algorithm='auto', copy_x=True, init='k-means++', max_iter=300,\n",
       "    n_clusters=3, n_init=10, n_jobs=None, precompute_distances='auto',\n",
       "    random_state=None, tol=0.0001, verbose=0)"
      ]
     },
     "execution_count": 72,
     "metadata": {},
     "output_type": "execute_result"
    }
   ],
   "source": [
    "kmeans = KMeans(n_clusters=3)\n",
    "kmeans.fit(x)"
   ]
  },
  {
   "cell_type": "code",
   "execution_count": 73,
   "metadata": {},
   "outputs": [
    {
     "data": {
      "text/plain": [
       "array([1])"
      ]
     },
     "execution_count": 73,
     "metadata": {},
     "output_type": "execute_result"
    }
   ],
   "source": [
    "kmeans.predict([x[0]])"
   ]
  },
  {
   "cell_type": "code",
   "execution_count": 74,
   "metadata": {},
   "outputs": [
    {
     "data": {
      "text/plain": [
       "2"
      ]
     },
     "execution_count": 74,
     "metadata": {},
     "output_type": "execute_result"
    }
   ],
   "source": [
    "y[0]"
   ]
  },
  {
   "cell_type": "code",
   "execution_count": 75,
   "metadata": {},
   "outputs": [],
   "source": [
    "from sklearn.metrics import accuracy_score"
   ]
  },
  {
   "cell_type": "code",
   "execution_count": 76,
   "metadata": {},
   "outputs": [
    {
     "data": {
      "text/plain": [
       "0.3793103448275862"
      ]
     },
     "execution_count": 76,
     "metadata": {},
     "output_type": "execute_result"
    }
   ],
   "source": [
    "accuracy_score(y, kmeans.predict(x))"
   ]
  },
  {
   "cell_type": "code",
   "execution_count": 77,
   "metadata": {},
   "outputs": [],
   "source": [
    "from sklearn.preprocessing import MinMaxScaler"
   ]
  },
  {
   "cell_type": "code",
   "execution_count": 78,
   "metadata": {},
   "outputs": [],
   "source": [
    "scaler = MinMaxScaler()"
   ]
  },
  {
   "cell_type": "code",
   "execution_count": 103,
   "metadata": {},
   "outputs": [],
   "source": [
    "x_scaled = scaler.fit_transform(x)"
   ]
  },
  {
   "cell_type": "code",
   "execution_count": 104,
   "metadata": {},
   "outputs": [
    {
     "data": {
      "text/plain": [
       "KMeans(algorithm='auto', copy_x=True, init='k-means++', max_iter=300,\n",
       "    n_clusters=3, n_init=10, n_jobs=None, precompute_distances='auto',\n",
       "    random_state=None, tol=0.0001, verbose=0)"
      ]
     },
     "execution_count": 104,
     "metadata": {},
     "output_type": "execute_result"
    }
   ],
   "source": [
    "kmeans.fit(x_scaled)"
   ]
  },
  {
   "cell_type": "code",
   "execution_count": 105,
   "metadata": {},
   "outputs": [
    {
     "data": {
      "text/plain": [
       "array([2, 1, 2, 2, 1, 2, 2, 2, 0, 1, 1, 1, 2, 2, 0, 2, 1, 2, 1, 1, 1, 1,\n",
       "       0, 2, 1, 1, 1, 2, 0, 1, 1, 0, 1, 0, 1, 0, 1, 1, 2, 0, 0, 2, 0, 0,\n",
       "       2, 1, 2, 1, 1, 0, 2, 1, 2, 1, 2, 2, 0, 1, 1, 2, 0, 1, 0, 1, 2, 0,\n",
       "       1, 1, 1, 2, 0, 1, 1, 1, 1, 0, 0, 1, 1, 1, 2, 2, 2, 1, 1, 1, 0, 0,\n",
       "       1, 1, 1, 1, 2, 0, 1, 0, 2, 0, 2, 0, 2, 2, 1, 1, 1, 1, 1, 1, 1, 2,\n",
       "       1, 1, 2, 1, 1, 0, 1, 0, 1, 2, 1, 1, 2, 1, 1, 1, 2, 1, 1, 1, 1, 1,\n",
       "       2, 2, 2, 2, 1, 2, 1, 1, 0, 1, 1, 1, 0, 1, 0, 1, 2, 2, 1, 1, 2, 0,\n",
       "       1, 0, 1, 1, 0, 0, 1, 2, 0, 0, 1, 0, 0, 1, 0, 1, 1, 0, 1, 1, 1, 1,\n",
       "       2, 2, 2, 1, 0, 1, 2, 2, 1, 0, 0, 2, 2, 2, 1, 1, 2, 2, 2, 1, 1, 1,\n",
       "       1, 1, 1, 1, 0, 0, 1, 2, 1, 0, 2, 0, 0, 0, 1, 1, 0, 1, 1, 2, 0, 2,\n",
       "       0, 1, 2, 0, 2, 1, 2, 1, 0, 1, 2, 1, 1, 2, 1, 1, 2, 0, 1, 1, 2, 0,\n",
       "       2, 1, 2, 2, 2, 1, 1, 1, 1, 1, 1, 2, 0, 1, 2, 1, 0, 0, 0])"
      ]
     },
     "execution_count": 105,
     "metadata": {},
     "output_type": "execute_result"
    }
   ],
   "source": [
    "kmeans.predict(x_scaled)"
   ]
  },
  {
   "cell_type": "code",
   "execution_count": 106,
   "metadata": {},
   "outputs": [
    {
     "data": {
      "text/plain": [
       "0.47126436781609193"
      ]
     },
     "execution_count": 106,
     "metadata": {},
     "output_type": "execute_result"
    }
   ],
   "source": [
    "accuracy_score(y, kmeans.predict(x_scaled))"
   ]
  },
  {
   "cell_type": "code",
   "execution_count": 107,
   "metadata": {},
   "outputs": [],
   "source": [
    "import matplotlib.pyplot as plt"
   ]
  },
  {
   "cell_type": "code",
   "execution_count": null,
   "metadata": {},
   "outputs": [],
   "source": []
  }
 ],
 "metadata": {
  "kernelspec": {
   "display_name": "Python 3",
   "language": "python",
   "name": "python3"
  },
  "language_info": {
   "codemirror_mode": {
    "name": "ipython",
    "version": 3
   },
   "file_extension": ".py",
   "mimetype": "text/x-python",
   "name": "python",
   "nbconvert_exporter": "python",
   "pygments_lexer": "ipython3",
   "version": "3.7.1"
  }
 },
 "nbformat": 4,
 "nbformat_minor": 2
}
