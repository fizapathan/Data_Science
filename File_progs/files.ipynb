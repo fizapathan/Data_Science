{
 "cells": [
  {
   "cell_type": "code",
   "execution_count": 7,
   "metadata": {},
   "outputs": [],
   "source": [
    "from tqdm import tqdm\n",
    "import time"
   ]
  },
  {
   "cell_type": "code",
   "execution_count": null,
   "metadata": {
    "scrolled": true
   },
   "outputs": [],
   "source": [
    "for i in tqdm(range(10)) :\n",
    "    print(i)\n",
    "    time.sleep(0.6)"
   ]
  },
  {
   "cell_type": "code",
   "execution_count": 2,
   "metadata": {},
   "outputs": [
    {
     "name": "stdout",
     "output_type": "stream",
     "text": [
      "\n",
      "Press1 to open file \"my_file\".\n",
      "Press2 to read a file.\n",
      "Press3 to write a file.\n",
      "Press4 to append a file.8\n",
      "Try again\n",
      "\n",
      "Press1 to open file \"my_file\".\n",
      "Press2 to read a file.\n",
      "Press3 to write a file.\n",
      "Press4 to append a file.-6\n",
      "Try again\n",
      "\n",
      "Press1 to open file \"my_file\".\n",
      "Press2 to read a file.\n",
      "Press3 to write a file.\n",
      "Press4 to append a file.0\n"
     ]
    }
   ],
   "source": [
    "from tqdm import tqdm\n",
    "import time\n",
    "choice = 1\n",
    "while choice != 0 :\n",
    "    choice = (int)(input(\"\\nPress1 to open file \\\"my_file\\\".\\nPress2 to read a file.\\nPress3 to write a file.\\nPress4 to append a file.\" ))\n",
    "    if choice == 1 :\n",
    "        f = open(\"my_file.txt\", \"r\")\n",
    "        for i in tqdm(f) :\n",
    "            print(\"opening the file...\")\n",
    "            time.sleep(0.3)\n",
    "        f.close()\n",
    "            \n",
    "    elif choice == 2:\n",
    "        f = open(\"my_file.txt\", \"r\")\n",
    "        read_str = \"\"\n",
    "        for i in tqdm(f.read()):\n",
    "            print(\"Reading file...\")    \n",
    "            read_str = read_str + i\n",
    "            time.sleep(0.3)\n",
    "        f.close()\n",
    "        print(read_str)\n",
    "        \n",
    "    elif choice == 3:\n",
    "        f = open(\"my_file.txt\", \"w\")\n",
    "        ch = input(\"The contents of the file will get overwritten, are you sure you want to write? y/n\")\n",
    "        if(ch == 'y'):\n",
    "            new_content = input(\"Enter the new content: \")\n",
    "            for i in tqdm(range(f.write(new_content))) :\n",
    "                print(\"Writing the file...\")\n",
    "                time.sleep(0.3)\n",
    "                \n",
    "        elif ch == 'n':\n",
    "            print(\"Your file is saved from changes\")\n",
    "        \n",
    "        f.close()\n",
    "                \n",
    "    elif choice == 4:\n",
    "        f = open(\"my_file.txt\", \"a\")\n",
    "        new_content = input(\"Enter the new content: \")\n",
    "        for i in tqdm(range(f.write(new_content))) :\n",
    "            print(\"Appending to the file...\")\n",
    "            time.sleep(0.3)\n",
    "        f.close()\n",
    "        \n",
    "    elif choice!=0 :\n",
    "        print(\"Try again\")\n"
   ]
  },
  {
   "cell_type": "code",
   "execution_count": null,
   "metadata": {},
   "outputs": [],
   "source": [
    "from flask import flask "
   ]
  },
  {
   "cell_type": "code",
   "execution_count": null,
   "metadata": {},
   "outputs": [],
   "source": []
  }
 ],
 "metadata": {
  "kernelspec": {
   "display_name": "Python 3",
   "language": "python",
   "name": "python3"
  },
  "language_info": {
   "codemirror_mode": {
    "name": "ipython",
    "version": 3
   },
   "file_extension": ".py",
   "mimetype": "text/x-python",
   "name": "python",
   "nbconvert_exporter": "python",
   "pygments_lexer": "ipython3",
   "version": "3.7.1"
  }
 },
 "nbformat": 4,
 "nbformat_minor": 2
}
