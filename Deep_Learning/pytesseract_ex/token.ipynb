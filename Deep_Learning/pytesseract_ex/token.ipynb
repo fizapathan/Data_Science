{
 "cells": [
  {
   "cell_type": "code",
   "execution_count": 5,
   "metadata": {},
   "outputs": [
    {
     "name": "stdout",
     "output_type": "stream",
     "text": [
      "Requirement already satisfied: pdf2image in c:\\users\\nazim patham\\anaconda3\\lib\\site-packages (1.5.4)\n",
      "Requirement already satisfied: pillow in c:\\users\\nazim patham\\anaconda3\\lib\\site-packages (from pdf2image) (5.3.0)\n"
     ]
    }
   ],
   "source": [
    "!pip install pdf2image"
   ]
  },
  {
   "cell_type": "code",
   "execution_count": null,
   "metadata": {},
   "outputs": [],
   "source": [
    "!pip install PIL"
   ]
  },
  {
   "cell_type": "code",
   "execution_count": 6,
   "metadata": {},
   "outputs": [
    {
     "ename": "ModuleNotFoundError",
     "evalue": "No module named 'Image'",
     "output_type": "error",
     "traceback": [
      "\u001b[1;31m---------------------------------------------------------------------------\u001b[0m",
      "\u001b[1;31mModuleNotFoundError\u001b[0m                       Traceback (most recent call last)",
      "\u001b[1;32m<ipython-input-6-60fec5f50a22>\u001b[0m in \u001b[0;36m<module>\u001b[1;34m\u001b[0m\n\u001b[1;32m----> 1\u001b[1;33m \u001b[1;32mimport\u001b[0m \u001b[0mImage\u001b[0m\u001b[1;33m\u001b[0m\u001b[1;33m\u001b[0m\u001b[0m\n\u001b[0m\u001b[0;32m      2\u001b[0m \u001b[1;32mimport\u001b[0m \u001b[0mpytesseract\u001b[0m\u001b[1;33m\u001b[0m\u001b[1;33m\u001b[0m\u001b[0m\n",
      "\u001b[1;31mModuleNotFoundError\u001b[0m: No module named 'Image'"
     ]
    }
   ],
   "source": [
    "import Image\n",
    "import pytesseract"
   ]
  },
  {
   "cell_type": "code",
   "execution_count": 1,
   "metadata": {},
   "outputs": [
    {
     "ename": "ModuleNotFoundError",
     "evalue": "No module named 'PIL'",
     "output_type": "error",
     "traceback": [
      "\u001b[1;31m---------------------------------------------------------------------------\u001b[0m",
      "\u001b[1;31mModuleNotFoundError\u001b[0m                       Traceback (most recent call last)",
      "\u001b[1;32m<ipython-input-1-ce0f6d63ca24>\u001b[0m in \u001b[0;36m<module>\u001b[1;34m\u001b[0m\n\u001b[1;32m----> 1\u001b[1;33m \u001b[1;32mfrom\u001b[0m \u001b[0mpdf2image\u001b[0m \u001b[1;32mimport\u001b[0m \u001b[0mconvert_from_path\u001b[0m\u001b[1;33m\u001b[0m\u001b[1;33m\u001b[0m\u001b[0m\n\u001b[0m",
      "\u001b[1;32m~\\Anaconda3\\lib\\site-packages\\pdf2image\\__init__.py\u001b[0m in \u001b[0;36m<module>\u001b[1;34m\u001b[0m\n\u001b[0;32m      3\u001b[0m \"\"\"\n\u001b[0;32m      4\u001b[0m \u001b[1;33m\u001b[0m\u001b[0m\n\u001b[1;32m----> 5\u001b[1;33m \u001b[1;32mfrom\u001b[0m \u001b[1;33m.\u001b[0m\u001b[0mpdf2image\u001b[0m \u001b[1;32mimport\u001b[0m \u001b[0mconvert_from_bytes\u001b[0m\u001b[1;33m,\u001b[0m \u001b[0mconvert_from_path\u001b[0m\u001b[1;33m\u001b[0m\u001b[1;33m\u001b[0m\u001b[0m\n\u001b[0m",
      "\u001b[1;32m~\\Anaconda3\\lib\\site-packages\\pdf2image\\pdf2image.py\u001b[0m in \u001b[0;36m<module>\u001b[1;34m\u001b[0m\n\u001b[0;32m     12\u001b[0m \u001b[1;33m\u001b[0m\u001b[0m\n\u001b[0;32m     13\u001b[0m \u001b[1;32mfrom\u001b[0m \u001b[0msubprocess\u001b[0m \u001b[1;32mimport\u001b[0m \u001b[0mPopen\u001b[0m\u001b[1;33m,\u001b[0m \u001b[0mPIPE\u001b[0m\u001b[1;33m\u001b[0m\u001b[1;33m\u001b[0m\u001b[0m\n\u001b[1;32m---> 14\u001b[1;33m \u001b[1;32mfrom\u001b[0m \u001b[0mPIL\u001b[0m \u001b[1;32mimport\u001b[0m \u001b[0mImage\u001b[0m\u001b[1;33m\u001b[0m\u001b[1;33m\u001b[0m\u001b[0m\n\u001b[0m\u001b[0;32m     15\u001b[0m \u001b[1;33m\u001b[0m\u001b[0m\n\u001b[0;32m     16\u001b[0m from .parsers import (\n",
      "\u001b[1;31mModuleNotFoundError\u001b[0m: No module named 'PIL'"
     ]
    }
   ],
   "source": [
    "from pdf2image import convert_from_path"
   ]
  },
  {
   "cell_type": "code",
   "execution_count": 14,
   "metadata": {
    "collapsed": true
   },
   "outputs": [],
   "source": [
    "images = convert_from_path('1.pdf')"
   ]
  },
  {
   "cell_type": "code",
   "execution_count": 15,
   "metadata": {},
   "outputs": [
    {
     "data": {
      "text/plain": [
       "[<PIL.PpmImagePlugin.PpmImageFile image mode=RGB size=1654x2339 at 0x7FAB4FAB2CF8>,\n",
       " <PIL.PpmImagePlugin.PpmImageFile image mode=RGB size=1654x2339 at 0x7FAB4FAB2E10>,\n",
       " <PIL.PpmImagePlugin.PpmImageFile image mode=RGB size=1654x2339 at 0x7FAB4FAB2B70>]"
      ]
     },
     "execution_count": 15,
     "metadata": {},
     "output_type": "execute_result"
    }
   ],
   "source": [
    "images"
   ]
  },
  {
   "cell_type": "code",
   "execution_count": 16,
   "metadata": {
    "collapsed": true
   },
   "outputs": [],
   "source": [
    "from PIL import Image\n",
    "import pytesseract as ts"
   ]
  },
  {
   "cell_type": "code",
   "execution_count": 17,
   "metadata": {
    "collapsed": true
   },
   "outputs": [],
   "source": [
    "img1 = images[0]\n",
    "img2 = images[1]"
   ]
  },
  {
   "cell_type": "code",
   "execution_count": 18,
   "metadata": {
    "collapsed": true
   },
   "outputs": [],
   "source": [
    "text1 = ts.image_to_string(img1)\n",
    "text2 = ts.image_to_string(img2)"
   ]
  },
  {
   "cell_type": "code",
   "execution_count": 19,
   "metadata": {},
   "outputs": [
    {
     "data": {
      "text/plain": [
       "'DISCHARGE SUMMARY\\n\\nJ&R Multispeciality Hospital\\n\\nDepartment of Neurology\\n\\nFaculty. Name: Lase Mackarthy\\nDr. Louis\\nSenior Surgeon\\n\\nDr. Neslon Jemmision Age/Sex : 77, Male\\nSurgeon\\nDr Stephen Stark Admission date: 8/9/2018\\n\\nSenior Professor\\n\\nFINAL DIAGNOSIS\\n\\n1. THROMBOLYSIS\\n2. HYPERTENSION\\n3. Oclusal plane deviation of STENT\\n\\n4. Sprain of rib heavily\\n\\n5. Coronary artery disease\\n\\n6. Hypercholesterolemia\\n\\nHISTORY OF PRESENT ILLNESS\\n\\nThe patient is a 62-year-old obese woman who was referred to the Beth Israel Hospital for cardiac\\ncatheterization and the indicated procedures. She suffered an inferior myocardial infarction in 1988\\nand subsequently underwent angioplasty of the right coronary artery. On 7/20/95, she presented to\\nan outside hospital with a second inferior wall myocardial infarction complicated by congestive\\nfailure, pulmonary edema and cardiac arrest. She was successfully resuscitated and underwent\\nangioplasty and stent placement of the proximal right coronary artery. Catheterization at that time\\nalso demonstrated severe three- vessel disease. An echocardiogram showed an ejection fraction of\\n25%. An exercise treadmill thallium performed prior to discharge showed anterior ischemia after\\n7.5 minutes of exercise. Medical management was maximized; however, she returned to an outside\\nhospital the week prior to admission to unstable angina. A stress test resulted in chest pain and\\ninferior lateral S-T depressions after only two minutes of exercise.\\n\\nPAST MEDICAL HISTORY\\n\\n1. Hypertension\\n2. High cholesterol'"
      ]
     },
     "execution_count": 19,
     "metadata": {},
     "output_type": "execute_result"
    }
   ],
   "source": [
    "text1"
   ]
  },
  {
   "cell_type": "code",
   "execution_count": 20,
   "metadata": {
    "collapsed": true
   },
   "outputs": [],
   "source": [
    "text1 = text1.replace('\\n',' ')\n",
    "text1 = text1.replace('.',' ')"
   ]
  },
  {
   "cell_type": "code",
   "execution_count": 21,
   "metadata": {},
   "outputs": [
    {
     "data": {
      "text/plain": [
       "'DISCHARGE SUMMARY  J&R Multispeciality Hospital  Department of Neurology  Faculty  Name: Lase Mackarthy Dr  Louis Senior Surgeon  Dr  Neslon Jemmision Age/Sex : 77, Male Surgeon Dr Stephen Stark Admission date: 8/9/2018  Senior Professor  FINAL DIAGNOSIS  1  THROMBOLYSIS 2  HYPERTENSION 3  Oclusal plane deviation of STENT  4  Sprain of rib heavily  5  Coronary artery disease  6  Hypercholesterolemia  HISTORY OF PRESENT ILLNESS  The patient is a 62-year-old obese woman who was referred to the Beth Israel Hospital for cardiac catheterization and the indicated procedures  She suffered an inferior myocardial infarction in 1988 and subsequently underwent angioplasty of the right coronary artery  On 7/20/95, she presented to an outside hospital with a second inferior wall myocardial infarction complicated by congestive failure, pulmonary edema and cardiac arrest  She was successfully resuscitated and underwent angioplasty and stent placement of the proximal right coronary artery  Catheterization at that time also demonstrated severe three- vessel disease  An echocardiogram showed an ejection fraction of 25%  An exercise treadmill thallium performed prior to discharge showed anterior ischemia after 7 5 minutes of exercise  Medical management was maximized; however, she returned to an outside hospital the week prior to admission to unstable angina  A stress test resulted in chest pain and inferior lateral S-T depressions after only two minutes of exercise   PAST MEDICAL HISTORY  1  Hypertension 2  High cholesterol'"
      ]
     },
     "execution_count": 21,
     "metadata": {},
     "output_type": "execute_result"
    }
   ],
   "source": [
    "text1"
   ]
  },
  {
   "cell_type": "code",
   "execution_count": 22,
   "metadata": {},
   "outputs": [
    {
     "name": "stdout",
     "output_type": "stream",
     "text": [
      " \n"
     ]
    }
   ],
   "source": [
    "a = text1.find('FINAL DIAGNOSIS')\n",
    "b = text1.find('HISTORY OF PRESENT ILLNESS')\n",
    "c = len('FINAL DIAGNOSIS')\n",
    "\n",
    "print(text1[a+c])\n"
   ]
  },
  {
   "cell_type": "code",
   "execution_count": 23,
   "metadata": {},
   "outputs": [
    {
     "data": {
      "text/plain": [
       "'  1  THROMBOLYSIS 2  HYPERTENSION 3  Oclusal plane deviation of STENT  4  Sprain of rib heavily  5  Coronary artery disease  6  Hypercholesterolemia  '"
      ]
     },
     "execution_count": 23,
     "metadata": {},
     "output_type": "execute_result"
    }
   ],
   "source": [
    "txt = text1[a+c:b]\n",
    "\n",
    "txt"
   ]
  },
  {
   "cell_type": "code",
   "execution_count": 25,
   "metadata": {},
   "outputs": [],
   "source": [
    "import nltk\n",
    "\n",
    "word_token = nltk.word_tokenize(txt)"
   ]
  },
  {
   "cell_type": "code",
   "execution_count": 26,
   "metadata": {},
   "outputs": [
    {
     "data": {
      "text/plain": [
       "['1',\n",
       " 'THROMBOLYSIS',\n",
       " '2',\n",
       " 'HYPERTENSION',\n",
       " '3',\n",
       " 'Oclusal',\n",
       " 'plane',\n",
       " 'deviation',\n",
       " 'of',\n",
       " 'STENT',\n",
       " '4',\n",
       " 'Sprain',\n",
       " 'of',\n",
       " 'rib',\n",
       " 'heavily',\n",
       " '5',\n",
       " 'Coronary',\n",
       " 'artery',\n",
       " 'disease',\n",
       " '6',\n",
       " 'Hypercholesterolemia']"
      ]
     },
     "execution_count": 26,
     "metadata": {},
     "output_type": "execute_result"
    }
   ],
   "source": [
    "word_token"
   ]
  },
  {
   "cell_type": "code",
   "execution_count": 27,
   "metadata": {
    "collapsed": true
   },
   "outputs": [],
   "source": [
    "list1 = ['1','2','3','4','5','6','7','8','9','0']"
   ]
  },
  {
   "cell_type": "code",
   "execution_count": 28,
   "metadata": {
    "collapsed": true
   },
   "outputs": [],
   "source": [
    "for i in range(len(txt)):\n",
    "    if txt[i] in list1:\n",
    "        txt = txt.replace(txt[i],'.')"
   ]
  },
  {
   "cell_type": "code",
   "execution_count": 29,
   "metadata": {},
   "outputs": [
    {
     "data": {
      "text/plain": [
       "'  .  THROMBOLYSIS .  HYPERTENSION .  Oclusal plane deviation of STENT  .  Sprain of rib heavily  .  Coronary artery disease  .  Hypercholesterolemia  '"
      ]
     },
     "execution_count": 29,
     "metadata": {},
     "output_type": "execute_result"
    }
   ],
   "source": [
    "txt"
   ]
  },
  {
   "cell_type": "code",
   "execution_count": 30,
   "metadata": {
    "collapsed": true
   },
   "outputs": [],
   "source": [
    "sent_token = nltk.sent_tokenize(txt)"
   ]
  },
  {
   "cell_type": "code",
   "execution_count": 31,
   "metadata": {
    "collapsed": true
   },
   "outputs": [],
   "source": [
    "sent_token = sent_token[1:]"
   ]
  },
  {
   "cell_type": "code",
   "execution_count": 32,
   "metadata": {},
   "outputs": [
    {
     "data": {
      "text/plain": [
       "['THROMBOLYSIS .',\n",
       " 'HYPERTENSION .',\n",
       " 'Oclusal plane deviation of STENT  .',\n",
       " 'Sprain of rib heavily  .',\n",
       " 'Coronary artery disease  .',\n",
       " 'Hypercholesterolemia']"
      ]
     },
     "execution_count": 32,
     "metadata": {},
     "output_type": "execute_result"
    }
   ],
   "source": [
    "sent_token"
   ]
  },
  {
   "cell_type": "code",
   "execution_count": 33,
   "metadata": {
    "collapsed": true
   },
   "outputs": [],
   "source": [
    "for i in range(len(sent_token)):\n",
    "    sent_token[i] = sent_token[i].replace('.','')"
   ]
  },
  {
   "cell_type": "code",
   "execution_count": 34,
   "metadata": {},
   "outputs": [
    {
     "data": {
      "text/plain": [
       "['THROMBOLYSIS ',\n",
       " 'HYPERTENSION ',\n",
       " 'Oclusal plane deviation of STENT  ',\n",
       " 'Sprain of rib heavily  ',\n",
       " 'Coronary artery disease  ',\n",
       " 'Hypercholesterolemia']"
      ]
     },
     "execution_count": 34,
     "metadata": {},
     "output_type": "execute_result"
    }
   ],
   "source": [
    "sent_token"
   ]
  },
  {
   "cell_type": "code",
   "execution_count": 35,
   "metadata": {
    "collapsed": true
   },
   "outputs": [],
   "source": [
    "import pandas as pd\n",
    "\n",
    "diag_data = pd.read_csv('categories.csv')"
   ]
  },
  {
   "cell_type": "code",
   "execution_count": 37,
   "metadata": {},
   "outputs": [
    {
     "data": {
      "text/html": [
       "<div>\n",
       "<style scoped>\n",
       "    .dataframe tbody tr th:only-of-type {\n",
       "        vertical-align: middle;\n",
       "    }\n",
       "\n",
       "    .dataframe tbody tr th {\n",
       "        vertical-align: top;\n",
       "    }\n",
       "\n",
       "    .dataframe thead th {\n",
       "        text-align: right;\n",
       "    }\n",
       "</style>\n",
       "<table border=\"1\" class=\"dataframe\">\n",
       "  <thead>\n",
       "    <tr style=\"text-align: right;\">\n",
       "      <th></th>\n",
       "      <th>CODE</th>\n",
       "      <th>DIAG</th>\n",
       "    </tr>\n",
       "  </thead>\n",
       "  <tbody>\n",
       "    <tr>\n",
       "      <th>0</th>\n",
       "      <td>A00</td>\n",
       "      <td>Cholera</td>\n",
       "    </tr>\n",
       "    <tr>\n",
       "      <th>1</th>\n",
       "      <td>A01</td>\n",
       "      <td>Typhoid and paratyphoid fevers</td>\n",
       "    </tr>\n",
       "    <tr>\n",
       "      <th>2</th>\n",
       "      <td>A010</td>\n",
       "      <td>Typhoid fever</td>\n",
       "    </tr>\n",
       "    <tr>\n",
       "      <th>3</th>\n",
       "      <td>A011</td>\n",
       "      <td>Paratyphoid fever A</td>\n",
       "    </tr>\n",
       "    <tr>\n",
       "      <th>4</th>\n",
       "      <td>A012</td>\n",
       "      <td>Paratyphoid fever B</td>\n",
       "    </tr>\n",
       "  </tbody>\n",
       "</table>\n",
       "</div>"
      ],
      "text/plain": [
       "   CODE                            DIAG\n",
       "0   A00                         Cholera\n",
       "1   A01  Typhoid and paratyphoid fevers\n",
       "2  A010                   Typhoid fever\n",
       "3  A011             Paratyphoid fever A\n",
       "4  A012             Paratyphoid fever B"
      ]
     },
     "execution_count": 37,
     "metadata": {},
     "output_type": "execute_result"
    }
   ],
   "source": [
    "diag_data.head()"
   ]
  },
  {
   "cell_type": "code",
   "execution_count": 38,
   "metadata": {},
   "outputs": [
    {
     "name": "stderr",
     "output_type": "stream",
     "text": [
      "/home/ziyaad/anaconda3/lib/python3.6/site-packages/fuzzywuzzy/fuzz.py:11: UserWarning: Using slow pure-python SequenceMatcher. Install python-Levenshtein to remove this warning\n",
      "  warnings.warn('Using slow pure-python SequenceMatcher. Install python-Levenshtein to remove this warning')\n"
     ]
    }
   ],
   "source": [
    "from fuzzywuzzy import fuzz"
   ]
  },
  {
   "cell_type": "code",
   "execution_count": 65,
   "metadata": {},
   "outputs": [
    {
     "name": "stdout",
     "output_type": "stream",
     "text": [
      "3516 77\n",
      "3625 87\n",
      "2602 60\n",
      "9734 74\n",
      "3230 68\n",
      "1427 89\n"
     ]
    }
   ],
   "source": [
    "import operator\n",
    "\n",
    "index_dict = {}\n",
    "for i in sent_token:\n",
    "    list_ = []\n",
    "    \n",
    "    for j in diag_data['DIAG']:\n",
    "        ratio = fuzz.token_sort_ratio(i,j)\n",
    "        list_.append(ratio)\n",
    "        \n",
    "    \n",
    "    index, value = max(enumerate(list_), key=operator.itemgetter(1))\n",
    "    print(index,value)\n",
    "    index_dict[index] = value\n",
    "    "
   ]
  },
  {
   "cell_type": "code",
   "execution_count": 66,
   "metadata": {},
   "outputs": [
    {
     "data": {
      "text/plain": [
       "{1427: 89, 2602: 60, 3230: 68, 3516: 77, 3625: 87, 9734: 74}"
      ]
     },
     "execution_count": 66,
     "metadata": {},
     "output_type": "execute_result"
    }
   ],
   "source": [
    "index_dict"
   ]
  },
  {
   "cell_type": "code",
   "execution_count": 77,
   "metadata": {},
   "outputs": [
    {
     "name": "stdout",
     "output_type": "stream",
     "text": [
      "CODE :  I75 || DIAGNISIS :  Atheroembolism || RATIO :  77\n",
      "CODE :  I95 || DIAGNISIS :  Hypotension || RATIO :  87\n",
      "CODE :  H353 || DIAGNISIS :  Degeneration of macula and posterior pole || RATIO :  60\n",
      "CODE :  S2341 || DIAGNISIS :  Sprain of ribs || RATIO :  74\n",
      "CODE :  I254 || DIAGNISIS :  Coronary artery aneurysm and dissection || RATIO :  68\n",
      "CODE :  E780 || DIAGNISIS :  Pure hypercholesterolemia || RATIO :  89\n"
     ]
    }
   ],
   "source": [
    "for i in index_dict.keys():\n",
    "    print('CODE : ',diag_data['CODE'].iloc[i],\"|| DIAGNISIS : \",diag_data['DIAG'].iloc[i],\"|| RATIO : \",index_dict[i])"
   ]
  },
  {
   "cell_type": "code",
   "execution_count": null,
   "metadata": {
    "collapsed": true
   },
   "outputs": [],
   "source": []
  },
  {
   "cell_type": "code",
   "execution_count": null,
   "metadata": {
    "collapsed": true
   },
   "outputs": [],
   "source": []
  },
  {
   "cell_type": "code",
   "execution_count": null,
   "metadata": {
    "collapsed": true
   },
   "outputs": [],
   "source": []
  },
  {
   "cell_type": "code",
   "execution_count": null,
   "metadata": {
    "collapsed": true
   },
   "outputs": [],
   "source": []
  },
  {
   "cell_type": "code",
   "execution_count": null,
   "metadata": {
    "collapsed": true
   },
   "outputs": [],
   "source": []
  },
  {
   "cell_type": "code",
   "execution_count": null,
   "metadata": {
    "collapsed": true
   },
   "outputs": [],
   "source": []
  },
  {
   "cell_type": "code",
   "execution_count": null,
   "metadata": {
    "collapsed": true
   },
   "outputs": [],
   "source": []
  },
  {
   "cell_type": "code",
   "execution_count": null,
   "metadata": {
    "collapsed": true
   },
   "outputs": [],
   "source": []
  },
  {
   "cell_type": "code",
   "execution_count": null,
   "metadata": {
    "collapsed": true
   },
   "outputs": [],
   "source": []
  },
  {
   "cell_type": "code",
   "execution_count": 80,
   "metadata": {},
   "outputs": [],
   "source": [
    "text2 = ts.image_to_string(img2)"
   ]
  },
  {
   "cell_type": "code",
   "execution_count": 81,
   "metadata": {},
   "outputs": [
    {
     "data": {
      "text/plain": [
       "'PAST SURGICAL HISTORY\\n\\n1. Total abdominal hysterectomy\\n2. Cholecystectomy\\n3. Appendectomy\\n\\nMEDICATIONS ON ADMISSION\\n\\n1. Norvasc, 2.5 mg q.d.\\n\\n2. Aspirin, 325 mg q.d.\\n\\n3. Isordil, 10 mg t.id.\\n\\n4. Lisinopril, 20 mg q.d.\\n\\n5. Lopressor, 100 mg b.i.d.\\n\\n6. Ticlid, 250 mg b.i-d.\\n\\n7. Lovastatin, 20 mg q.d.\\n\\n8. Coumadin, which was discontinued earlier in the month\\n\\nPROCEDURES\\n\\n1. Cardiac catheterization on 8/10/95\\n2. Coronary artery bypass x 4\\n\\n3. Thrombobolysis\\n\\n4. 2 packed cell transfusion\\n\\n5. Intubation and mechanical ventilation\\n\\nLABORATORY\\n\\nAn admission chest x-ray shows some left lower lobe atelectasis but was otherwise clear. An\\nelectroc shows interventricular conduction delay but no acute ischemic changes. There is evidence\\nof old inferior wall myocardial infarction. Admission labs are unremarkable.\\n\\nHOSPITAL COURSE\\n\\nA repeat echocardiogram showed an ejection fraction of approximately 25% with moderate mitral\\nregurgitation. This was not evident on ventriculogram at catheterization, however. Left ventricular\\nend diastolic pressure at catheterization was 24 with a wedge of 25. After consultation with the\\npatient, the decision was made to proceed with coronary artery bypass, albeit at slightly increased\\nrisk.\\n\\nOn 8/14/95, the patient underwent the procedure described above. All targets were of reasonable\\ncaliber and quality, and the conduit was of good quality. She was weaned from bypass without\\ndifficulty and there was no evidence of perioperative myocardial injury.\\n\\nThis was treated with frequent dressing changes and it subsequently healed up and did not require\\noperative intervention. She also developed cellulitis in her left lower extremity that proved very'"
      ]
     },
     "execution_count": 81,
     "metadata": {},
     "output_type": "execute_result"
    }
   ],
   "source": [
    "text2"
   ]
  },
  {
   "cell_type": "code",
   "execution_count": 82,
   "metadata": {
    "collapsed": true
   },
   "outputs": [],
   "source": [
    "text2 = text2.replace('.',' ')\n",
    "text2 = text2.replace('\\n',' ')"
   ]
  },
  {
   "cell_type": "code",
   "execution_count": 83,
   "metadata": {},
   "outputs": [
    {
     "data": {
      "text/plain": [
       "'PAST SURGICAL HISTORY  1  Total abdominal hysterectomy 2  Cholecystectomy 3  Appendectomy  MEDICATIONS ON ADMISSION  1  Norvasc, 2 5 mg q d   2  Aspirin, 325 mg q d   3  Isordil, 10 mg t id   4  Lisinopril, 20 mg q d   5  Lopressor, 100 mg b i d   6  Ticlid, 250 mg b i-d   7  Lovastatin, 20 mg q d   8  Coumadin, which was discontinued earlier in the month  PROCEDURES  1  Cardiac catheterization on 8/10/95 2  Coronary artery bypass x 4  3  Thrombobolysis  4  2 packed cell transfusion  5  Intubation and mechanical ventilation  LABORATORY  An admission chest x-ray shows some left lower lobe atelectasis but was otherwise clear  An electroc shows interventricular conduction delay but no acute ischemic changes  There is evidence of old inferior wall myocardial infarction  Admission labs are unremarkable   HOSPITAL COURSE  A repeat echocardiogram showed an ejection fraction of approximately 25% with moderate mitral regurgitation  This was not evident on ventriculogram at catheterization, however  Left ventricular end diastolic pressure at catheterization was 24 with a wedge of 25  After consultation with the patient, the decision was made to proceed with coronary artery bypass, albeit at slightly increased risk   On 8/14/95, the patient underwent the procedure described above  All targets were of reasonable caliber and quality, and the conduit was of good quality  She was weaned from bypass without difficulty and there was no evidence of perioperative myocardial injury   This was treated with frequent dressing changes and it subsequently healed up and did not require operative intervention  She also developed cellulitis in her left lower extremity that proved very'"
      ]
     },
     "execution_count": 83,
     "metadata": {},
     "output_type": "execute_result"
    }
   ],
   "source": [
    "text2"
   ]
  },
  {
   "cell_type": "code",
   "execution_count": null,
   "metadata": {
    "collapsed": true
   },
   "outputs": [],
   "source": []
  }
 ],
 "metadata": {
  "kernelspec": {
   "display_name": "Python 3",
   "language": "python",
   "name": "python3"
  },
  "language_info": {
   "codemirror_mode": {
    "name": "ipython",
    "version": 3
   },
   "file_extension": ".py",
   "mimetype": "text/x-python",
   "name": "python",
   "nbconvert_exporter": "python",
   "pygments_lexer": "ipython3",
   "version": "3.7.1"
  }
 },
 "nbformat": 4,
 "nbformat_minor": 2
}
